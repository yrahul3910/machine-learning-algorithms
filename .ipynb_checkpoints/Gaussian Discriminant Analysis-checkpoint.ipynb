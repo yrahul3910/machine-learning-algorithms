{
 "cells": [
  {
   "cell_type": "markdown",
   "metadata": {},
   "source": [
    "## Import data and perform dimensionality reduction"
   ]
  },
  {
   "cell_type": "code",
   "execution_count": 112,
   "metadata": {},
   "outputs": [],
   "source": [
    "from sklearn.datasets import load_iris\n",
    "from sklearn.decomposition import PCA\n",
    "from matplotlib import pyplot as plt\n",
    "from sklearn.model_selection import train_test_split\n",
    "from sklearn.metrics import accuracy_score, classification_report\n",
    "import numpy as np\n",
    "\n",
    "plt.style.use('ggplot')"
   ]
  },
  {
   "cell_type": "code",
   "execution_count": 39,
   "metadata": {},
   "outputs": [],
   "source": [
    "data = load_iris()"
   ]
  },
  {
   "cell_type": "code",
   "execution_count": 40,
   "metadata": {},
   "outputs": [],
   "source": [
    "X, Y = data['data'], data['target']"
   ]
  },
  {
   "cell_type": "code",
   "execution_count": 91,
   "metadata": {},
   "outputs": [
    {
     "name": "stderr",
     "output_type": "stream",
     "text": [
      "/usr/local/lib64/python3.6/site-packages/sklearn/model_selection/_split.py:2026: FutureWarning: From version 0.21, test_size will always complement train_size unless both are specified.\n",
      "  FutureWarning)\n"
     ]
    }
   ],
   "source": [
    "X_train, X_test, Y_train, Y_test = train_test_split(X, Y, train_size=0.7)"
   ]
  },
  {
   "cell_type": "code",
   "execution_count": 92,
   "metadata": {},
   "outputs": [],
   "source": [
    "indices = np.where(Y_train == 2)"
   ]
  },
  {
   "cell_type": "code",
   "execution_count": 93,
   "metadata": {},
   "outputs": [],
   "source": [
    "for index in sorted(indices, reverse=True):\n",
    "    X_train = np.delete(X_train, index, 0)\n",
    "    Y_train = np.delete(Y_train, index, 0)"
   ]
  },
  {
   "cell_type": "code",
   "execution_count": 94,
   "metadata": {},
   "outputs": [],
   "source": [
    "pca = PCA(n_components=2)\n",
    "pca.fit(X_train)\n",
    "X_train = pca.transform(X_train)"
   ]
  },
  {
   "cell_type": "code",
   "execution_count": 95,
   "metadata": {},
   "outputs": [
    {
     "data": {
      "text/plain": [
       "((70, 2), (70,))"
      ]
     },
     "execution_count": 95,
     "metadata": {},
     "output_type": "execute_result"
    }
   ],
   "source": [
    "X_train.shape, Y_train.shape"
   ]
  },
  {
   "cell_type": "code",
   "execution_count": 96,
   "metadata": {},
   "outputs": [
    {
     "data": {
      "image/png": "[encoded data removed]",
      "text/plain": [
       "<Figure size 432x288 with 1 Axes>"
      ]
     },
     "metadata": {},
     "output_type": "display_data"
    }
   ],
   "source": [
    "plt.scatter(X_train.T[0], X_train.T[1], c=Y_train, cmap='jet');"
   ]
  },
  {
   "cell_type": "markdown",
   "metadata": {},
   "source": [
    "## MLE for $\\phi$\n",
    "$$\\phi = \\frac{\\sum_{i=1}^m [y^{(i)} = 1]}{m}$$"
   ]
  },
  {
   "cell_type": "code",
   "execution_count": 97,
   "metadata": {},
   "outputs": [],
   "source": [
    "phi = np.mean(Y_train == 1)"
   ]
  },
  {
   "cell_type": "code",
   "execution_count": 98,
   "metadata": {},
   "outputs": [
    {
     "name": "stdout",
     "output_type": "stream",
     "text": [
      "MLE for phi = 0.42857142857142855\n"
     ]
    }
   ],
   "source": [
    "print('MLE for phi =', phi)"
   ]
  },
  {
   "cell_type": "markdown",
   "metadata": {},
   "source": [
    "## MLE for $\\mu_0$\n",
    "$$\\boldsymbol \\mu_0 = \\frac{\\sum_{i=1}^m \\textbf{x}^{(i)} [y^{(i)} = 0]}{\\sum_{i=1}^m [y^{(i)} = 0]}$$"
   ]
  },
  {
   "cell_type": "code",
   "execution_count": 118,
   "metadata": {},
   "outputs": [],
   "source": [
    "indices = (Y_train == 0)\n",
    "denominator = np.sum(indices)\n",
    "numerator = np.sum(X_train[indices == True], axis=0)\n",
    "mu_0 = numerator / denominator"
   ]
  },
  {
   "cell_type": "code",
   "execution_count": 119,
   "metadata": {},
   "outputs": [
    {
     "name": "stdout",
     "output_type": "stream",
     "text": [
      "MLE for mu_0 = [-1.41929759  0.04673795]\n"
     ]
    }
   ],
   "source": [
    "print('MLE for mu_0 =', mu_0)"
   ]
  },
  {
   "cell_type": "markdown",
   "metadata": {},
   "source": [
    "## MLE for $\\mu_1$\n",
    "$$\\boldsymbol \\mu_1 = \\frac{\\sum_{i=1}^m \\textbf{x}^{(i)} [y^{(i)} = 1]}{\\sum_{i=1}^m [y^{(i)} = 1]}$$"
   ]
  },
  {
   "cell_type": "code",
   "execution_count": 116,
   "metadata": {},
   "outputs": [],
   "source": [
    "indices = (Y_train == 1)\n",
    "denominator = np.sum(indices)\n",
    "numerator = np.sum(X_train[indices], axis=0)\n",
    "mu_1 = numerator / denominator"
   ]
  },
  {
   "cell_type": "code",
   "execution_count": 117,
   "metadata": {},
   "outputs": [
    {
     "name": "stdout",
     "output_type": "stream",
     "text": [
      "MLE for mu_1 = [ 1.89239678 -0.06231726]\n"
     ]
    }
   ],
   "source": [
    "print('MLE for mu_1 =', mu_1)"
   ]
  },
  {
   "cell_type": "markdown",
   "metadata": {},
   "source": [
    "## MLE for $\\Sigma$\n",
    "$$\\boldsymbol \\Sigma = \\frac{1}{m} \\sum_{i=1}^m (\\textbf{x}^{(i)}-\\boldsymbol \\mu)(\\textbf{x}^{(i)}-\\boldsymbol \\mu)^T$$"
   ]
  },
  {
   "cell_type": "code",
   "execution_count": 103,
   "metadata": {},
   "outputs": [],
   "source": [
    "mu = [mu_0, mu_1]\n",
    "\n",
    "# Initialize the sum\n",
    "x_minus_mu = X_train[0] - mu[Y_train[0]]\n",
    "# We don't want rank-one arrays\n",
    "x_minus_mu = x_minus_mu.reshape(*(x_minus_mu.shape), 1)\n",
    "s = np.matmul(x_minus_mu, x_minus_mu.T)\n",
    "\n",
    "m = len(Y_train)\n",
    "\n",
    "for i in range(1, m):\n",
    "    x_minus_mu = X_train[i] - mu[Y_train[i]]\n",
    "    x_minus_mu = x_minus_mu.reshape(*(x_minus_mu.shape), 1)\n",
    "    s += np.matmul(x_minus_mu, x_minus_mu.T)\n",
    "\n",
    "s /= m"
   ]
  },
  {
   "cell_type": "code",
   "execution_count": 104,
   "metadata": {},
   "outputs": [
    {
     "name": "stdout",
     "output_type": "stream",
     "text": [
      "MLE for sigma =\n",
      " [[0.12281694 0.08844674]\n",
      " [0.08844674 0.20662475]]\n"
     ]
    }
   ],
   "source": [
    "print('MLE for sigma =\\n', s)"
   ]
  },
  {
   "cell_type": "markdown",
   "metadata": {},
   "source": [
    "## Predictions\n",
    "We now have all our MLEs. It's time to predict."
   ]
  },
  {
   "cell_type": "code",
   "execution_count": 111,
   "metadata": {},
   "outputs": [
    {
     "name": "stdout",
     "output_type": "stream",
     "text": [
      "[1, 1, 1, 0, 1, 1, 1, 1, 1, 1, 1, 1, 1, 1, 1, 0, 0, 0, 0, 0, 0, 1, 1, 1, 1, 1, 0, 1, 0, 0]\n"
     ]
    }
   ],
   "source": [
    "pi = 3.1415926535\n",
    "n = len(mu_0)  # Or mu_1, or any of the X\n",
    "denominator = (2 * pi) ** (n / 2) * np.sqrt(np.linalg.det(s))\n",
    "\n",
    "predictions = []\n",
    "\n",
    "for x in X_test:\n",
    "    x_minus_mu0 = x - mu_0\n",
    "    x_minus_mu0 = x_minus_mu0.reshape(*(x_minus_mu0.shape), 1)\n",
    "    p_x0 = 1 / denominator * np.exp(-0.5 * np.matmul(x_minus_mu0.T, np.matmul(np.linalg.inv(s), x_minus_mu0)))\n",
    "    p_x0 = np.squeeze(p_x0)\n",
    "    \n",
    "    x_minus_mu1 = x - mu_1\n",
    "    x_minus_mu1 = x_minus_mu1.reshape(*(x_minus_mu1.shape), 1)\n",
    "    p_x1 = 1 / denominator * np.exp(-0.5 * np.matmul(x_minus_mu1.T, np.matmul(np.linalg.inv(s), x_minus_mu1)))\n",
    "    p_x1 = np.squeeze(p_x1)\n",
    "    \n",
    "    if p_x1 >= p_x0:\n",
    "        predictions.append(1)\n",
    "    else:\n",
    "        predictions.append(0)\n",
    "\n",
    "print(predictions)"
   ]
  },
  {
   "cell_type": "code",
   "execution_count": 113,
   "metadata": {},
   "outputs": [
    {
     "name": "stdout",
     "output_type": "stream",
     "text": [
      "1.0\n"
     ]
    }
   ],
   "source": [
    "print(accuracy_score(Y_test, predictions))"
   ]
  },
  {
   "cell_type": "code",
   "execution_count": 114,
   "metadata": {},
   "outputs": [
    {
     "name": "stdout",
     "output_type": "stream",
     "text": [
      "             precision    recall  f1-score   support\n",
      "\n",
      "          0       1.00      1.00      1.00        10\n",
      "          1       1.00      1.00      1.00        20\n",
      "\n",
      "avg / total       1.00      1.00      1.00        30\n",
      "\n"
     ]
    }
   ],
   "source": [
    "print(classification_report(Y_test, predictions))"
   ]
  },
  {
   "cell_type": "code",
   "execution_count": null,
   "metadata": {},
   "outputs": [],
   "source": []
  }
 ],
 "metadata": {
  "kernelspec": {
   "display_name": "Python 3",
   "language": "python",
   "name": "python3"
  },
  "language_info": {
   "codemirror_mode": {
    "name": "ipython",
    "version": 3
   },
   "file_extension": ".py",
   "mimetype": "text/x-python",
   "name": "python",
   "nbconvert_exporter": "python",
   "pygments_lexer": "ipython3",
   "version": "3.6.6"
  }
 },
 "nbformat": 4,
 "nbformat_minor": 2
}
