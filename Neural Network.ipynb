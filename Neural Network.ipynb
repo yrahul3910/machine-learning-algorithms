{
 "cells": [
  {
   "cell_type": "markdown",
   "metadata": {},
   "source": [
    "## Import packages"
   ]
  },
  {
   "cell_type": "code",
   "execution_count": 1,
   "metadata": {},
   "outputs": [],
   "source": [
    "import numpy as np\n",
    "import pandas as pd\n",
    "import matplotlib.pyplot as plt\n",
    "\n",
    "plt.style.use('ggplot')\n",
    "%matplotlib inline"
   ]
  },
  {
   "cell_type": "markdown",
   "metadata": {},
   "source": [
    "## Initialization"
   ]
  },
  {
   "cell_type": "markdown",
   "metadata": {},
   "source": [
    "Use He initialization: [He et al., 2015. Delving Deep into Rectifiers: Surpassing Human-Level Performance in ImageNet Classification](https://www.cv-foundation.org/openaccess/content_iccv_2015/papers/He_Delving_Deep_into_ICCV_2015_paper.pdf). Initializes weights $W$ as random Normal variables with variance $\\frac{2}{\\sqrt{n^{L-1}}}$."
   ]
  },
  {
   "cell_type": "code",
   "execution_count": 2,
   "metadata": {},
   "outputs": [],
   "source": [
    "def initialize_parameters(layer_dims):\n",
    "    \"\"\"\n",
    "    Initializes the neural network parameters.\n",
    "    \n",
    "    Args:\n",
    "    layer_dims: A list of the dimensions of every layer.\n",
    "    \n",
    "    Returns:\n",
    "    parameters: A dict object containing keys, \"W1\", \"b1\", etc.\n",
    "                Each Wi has dimensions (layer_dims[l], layer_dims[l-1])\n",
    "                Each bi has dimensions (layer_dims[l], 1)\n",
    "    \"\"\"\n",
    "    parameters = {}\n",
    "    L = len(layer_dims)\n",
    "    \n",
    "    for i in range(1, L):\n",
    "        # Use He initialization: \n",
    "        # He et al., 2015. Delving Deep into Rectifiers: Surpassing Human-Level Performance in \n",
    "        # ImageNet Classification.\n",
    "        parameters['W' + str(i)] = np.random.randn(layer_dims[i], layer_dims[i-1]) * np.sqrt(2 / layer_dims[i-1])\n",
    "        parameters['b' + str(i)] = np.zeros((layer_dims[i], 1))\n",
    "    \n",
    "    return parameters"
   ]
  },
  {
   "cell_type": "markdown",
   "metadata": {},
   "source": [
    "## Forward propagation"
   ]
  },
  {
   "cell_type": "markdown",
   "metadata": {},
   "source": [
    "Two activations are implemented:  \n",
    "* Sigmoid: $\\frac{1}{1 + e^{-z}}$\n",
    "* ReLU: $max(0, z)$\n",
    "\n",
    "The forward prop can be thought of as each layer computing $W^T X + b$, and applying an activation on the resulting vector."
   ]
  },
  {
   "cell_type": "code",
   "execution_count": 3,
   "metadata": {},
   "outputs": [],
   "source": [
    "def sigmoid(z):\n",
    "    \"\"\"\n",
    "    Returns the sigmoid of the vector z\n",
    "    \n",
    "    Args:\n",
    "    z: The vector to take sigmoid of\n",
    "    \n",
    "    Returns: The softmax of the values and the cache, z\n",
    "    \"\"\"\n",
    "    sigmoid = 1 / (1 + np.exp(-z))\n",
    "    return (sigmoid, z)"
   ]
  },
  {
   "cell_type": "code",
   "execution_count": 4,
   "metadata": {},
   "outputs": [],
   "source": [
    "def relu(z):\n",
    "    \"\"\"\n",
    "    Returns a ReLu activation of the vector z\n",
    "    \n",
    "    Args:\n",
    "    z: The vector to take relu of\n",
    "    \n",
    "    Returns:\n",
    "    a: The ReLu of z\n",
    "    cache: The value z\n",
    "    \"\"\"\n",
    "    out = np.maximum(z, 0)\n",
    "    return out, z"
   ]
  },
  {
   "cell_type": "code",
   "execution_count": 5,
   "metadata": {},
   "outputs": [],
   "source": [
    "def linear_forward(A, W, b):\n",
    "    \"\"\"\n",
    "    Implement the first part of a layer, i.e., computing the weighted sums.\n",
    "    \n",
    "    Args:\n",
    "    A: Activations from the previous layer\n",
    "    W: Weight matrix for this layer\n",
    "    b: Bias vector for this layer\n",
    "    \n",
    "    Returns:\n",
    "    Z: The weighted sum vector\n",
    "    cache: A tuple containing \"A\", \"W\", and \"b\" for use in backward prop\n",
    "    \"\"\"\n",
    "    Z = np.dot(W, A) + b\n",
    "    cache = (A, W, b)\n",
    "    \n",
    "    return Z, cache"
   ]
  },
  {
   "cell_type": "code",
   "execution_count": 6,
   "metadata": {},
   "outputs": [],
   "source": [
    "def single_layer_forward(A_prev, W, b, activation):\n",
    "    \"\"\"\n",
    "    Implements a single layer's forward prop, with activation.\n",
    "    \n",
    "    Args:\n",
    "    A_prev: Activations from the previous layer\n",
    "    W: The weight matrix of the current layer\n",
    "    b: The bias vector for the current layer\n",
    "    activation: A string, 'relu' or 'sigmoid'\n",
    "    \n",
    "    Returns:\n",
    "    A: The outputs of the current layer's activations\n",
    "    cache: A tuple containing 'linear_cache' and 'activation_cache'\n",
    "    \"\"\"\n",
    "    Z, linear_cache = linear_forward(A_prev, W, b)\n",
    "    \n",
    "    if activation == 'sigmoid':\n",
    "        A, activation_cache = sigmoid(Z)\n",
    "    elif activation == 'relu':\n",
    "        A, activation_cache = relu(Z)\n",
    "    \n",
    "    cache = (linear_cache, activation_cache)\n",
    "    return A, cache"
   ]
  },
  {
   "cell_type": "code",
   "execution_count": 7,
   "metadata": {},
   "outputs": [],
   "source": [
    "def forward_propagate(X, parameters, activations):\n",
    "    \"\"\"\n",
    "    Implements forward propagation.\n",
    "    \n",
    "    Args:\n",
    "    X: The inputs\n",
    "    parameters: The parameters initialized\n",
    "    activations: The activations to apply at each layer\n",
    "    \n",
    "    Returns:\n",
    "    AL: The final outputs\n",
    "    caches: A dict with the caches from each layer\n",
    "    \"\"\"\n",
    "    A = X\n",
    "    caches = []\n",
    "    L = len(parameters) // 2\n",
    "    \n",
    "    for i in range(1, L):\n",
    "        A_prev = A\n",
    "        \n",
    "        A, cache = single_layer_forward(A_prev, \n",
    "                                        W=parameters['W' + str(i)], \n",
    "                                        b=parameters['b' + str(i)],\n",
    "                                        activation=activations[i-1])\n",
    "        caches.append(cache)\n",
    "    \n",
    "    AL, cache = single_layer_forward(A, \n",
    "                                     W=parameters['W' + str(L)], \n",
    "                                     b=parameters['b' + str(L)], \n",
    "                                     activation='sigmoid')\n",
    "    caches.append(cache)\n",
    "    return AL, caches"
   ]
  },
  {
   "cell_type": "markdown",
   "metadata": {},
   "source": [
    "## Cost function"
   ]
  },
  {
   "cell_type": "markdown",
   "metadata": {},
   "source": [
    "The cross-entropy cost function is $-\\frac{1}{m} \\sum \\limits_{i=1}^m \\left( y^{(i)}\\log a^{[L](i)} + (1 - y^{(i)})\\log (1 - a^{[L](i)}) \\right)$"
   ]
  },
  {
   "cell_type": "code",
   "execution_count": 8,
   "metadata": {},
   "outputs": [],
   "source": [
    "def compute_cost(AL, Y):\n",
    "    \"\"\"\n",
    "    Computes the cross-entropy loss\n",
    "    \n",
    "    Args:\n",
    "    AL: Sigmoid output of the network\n",
    "    Y: True outputs\n",
    "    \n",
    "    Returns:\n",
    "    cost: The current cost\n",
    "    \"\"\"\n",
    "    m = max(*Y.shape)\n",
    "    Y = Y.reshape(1, m)\n",
    "    \n",
    "    cost = (-1. / m) * np.sum(np.multiply(Y, np.log(AL)) + np.multiply((1-Y), np.log(1-AL)))\n",
    "    cost = np.squeeze(cost)\n",
    "    \n",
    "    return cost"
   ]
  },
  {
   "cell_type": "markdown",
   "metadata": {},
   "source": [
    "## Backward prop"
   ]
  },
  {
   "cell_type": "markdown",
   "metadata": {},
   "source": [
    "For the linear part, the formulas are:  \n",
    "\n",
    "$Z^{[l]} = W^{[l]T} A^{[l-1]} + b^{[l]}$  \n",
    "\n",
    "1. **Weight matrix:**   \n",
    "$\\frac{\\mathrm{d}L}{\\mathrm{d}W^{[l]}} = \\frac{1}{m} \\frac{\\mathrm{d}L}{\\mathrm{d}Z^{[l]}}A^{[l-1]T}$\n",
    "\n",
    "2. **Bias term:**  \n",
    "$\\frac{\\mathrm{d}L}{\\mathrm{d}b^{[l]}} = \\frac{1}{m} \\sum \\limits_{i=1}^m \\frac{\\mathrm{d}L}{\\mathrm{d}Z^{[l](i)}}$\n",
    "\n",
    "3. **Previous layer activation:**  \n",
    "$\\frac{\\mathrm{d}L}{\\mathrm{d}A^{[l-1]}} = W^{[l]T} \\frac{\\mathrm{d}L}{\\mathrm{d}Z^{[l]}}$"
   ]
  },
  {
   "cell_type": "code",
   "execution_count": 9,
   "metadata": {},
   "outputs": [],
   "source": [
    "def linear_backward(dZ, cache):\n",
    "    \"\"\"\n",
    "    Implements the linear part of the backward propagation for one layer\n",
    "    \n",
    "    Args:\n",
    "    dZ: The derivative of the cost wrt linear output of current layer\n",
    "    cache: The cache from the forward propagation\n",
    "    \n",
    "    Returns:\n",
    "    dA_prev: Derivative of cost wrt A[l-1]\n",
    "    dW: Derivative of cost wrt W[l]\n",
    "    db: Derivative of cost wrt b\n",
    "    \"\"\"\n",
    "    A_prev, W, b = cache\n",
    "    m = A_prev.shape[1]\n",
    "    \n",
    "    dW = 1. / m * np.dot(dZ, A_prev.T)\n",
    "    db = 1. / m * np.sum(dZ, axis=1, keepdims=True)\n",
    "    dA_prev = np.dot(W.T, dZ)\n",
    "    \n",
    "    return dA_prev, dW, db"
   ]
  },
  {
   "cell_type": "markdown",
   "metadata": {},
   "source": [
    "Next, implement the backward prop for the whole layer including the activation.  \n",
    "$A^{[l]} = g(Z^{[l]})$  \n",
    "$dZ^{[l]} = dA^{[l]} \\times g^{\\prime}(Z^{[l]})$"
   ]
  },
  {
   "cell_type": "code",
   "execution_count": 10,
   "metadata": {},
   "outputs": [],
   "source": [
    "def relu_backward(dA, cache):\n",
    "    \"\"\"\n",
    "    Implement the backward propagation for a single RELU unit.\n",
    "    \n",
    "    Args:\n",
    "    dA: Post-activation gradient\n",
    "    cache: \"Z\" stored for computing gradient\n",
    "    \n",
    "    Returns:\n",
    "    dZ: Gradient of the cost wrt z\n",
    "    \"\"\"\n",
    "    Z = cache\n",
    "    dZ = np.array(dA, copy=True)\n",
    "    \n",
    "    dZ[Z <= 0] = 0\n",
    "    \n",
    "    return dZ"
   ]
  },
  {
   "cell_type": "code",
   "execution_count": 11,
   "metadata": {},
   "outputs": [],
   "source": [
    "def single_backward(dA, cache, activation):\n",
    "    \"\"\"\n",
    "    Implements the backward pass for one complete layer, including activations.\n",
    "    \n",
    "    Args:\n",
    "    dA: Gradient of activation of the current layer\n",
    "    cache: Tuple (linear_cache, activation_cache) from forward pass\n",
    "    activation: The activation at the current layer\n",
    "    \n",
    "    Returns:\n",
    "    dA_prev: Gradient of loss wrt A[l-1]\n",
    "    dW: Gradient of loss wrt W[l]\n",
    "    db: Gradient of loss wrt b[l]\n",
    "    \"\"\"\n",
    "    linear_cache, activation_cache = cache\n",
    "    \n",
    "    if activation == 'relu':\n",
    "        dZ = relu_backward(dA, activation_cache)\n",
    "    elif activation == 'sigmoid':\n",
    "        dZ = dA * sigmoid(activation_cache)[0] * (1 - sigmoid(activation_cache)[0])\n",
    "    \n",
    "    dA_prev, dW, db = linear_backward(dZ, linear_cache)\n",
    "    return dA_prev, dW, db"
   ]
  },
  {
   "cell_type": "code",
   "execution_count": 12,
   "metadata": {},
   "outputs": [],
   "source": [
    "def backward_prop(AL, Y, caches, activations):\n",
    "    \"\"\"\n",
    "    Implements backward propagation.\n",
    "    \n",
    "    Args:\n",
    "    AL: The output of the network\n",
    "    Y: The true output\n",
    "    caches: The caches collected during forward prop\n",
    "    \n",
    "    Returns:\n",
    "    grads: A dict with gradients grads['dW1'], grads['dA1'], grads['db1'], etc.\n",
    "    \"\"\"\n",
    "    grads = {}\n",
    "    L = len(caches)\n",
    "    m = AL.shape[1]\n",
    "    Y = Y.reshape(AL.shape)\n",
    "    \n",
    "    dAL = -(Y / AL - (1 - Y) / (1 - AL))\n",
    "    \n",
    "    cache = caches[-1]\n",
    "    grads['dA' + str(L)], grads['dW' + str(L)], grads['db' + str(L)] = single_backward(dAL, cache, activations[-1])\n",
    "\n",
    "    for i in reversed(range(L-1)):\n",
    "        cache = caches[i]\n",
    "        \n",
    "        dA_prev, dW, db = single_backward(grads['dA' + str(i+2)], cache, activations[i])\n",
    "        \n",
    "        grads['dA' + str(i+1)] = dA_prev\n",
    "        grads['dW' + str(i+1)] = dW\n",
    "        grads['db' + str(i+1)] = db\n",
    "    return grads"
   ]
  },
  {
   "cell_type": "markdown",
   "metadata": {},
   "source": [
    "## Update Parameters"
   ]
  },
  {
   "cell_type": "code",
   "execution_count": 13,
   "metadata": {},
   "outputs": [],
   "source": [
    "def update_parameters(params, grads, learning_rate):\n",
    "    \"\"\"\n",
    "    Updates parameters using gradient descent\n",
    "    \n",
    "    Args:\n",
    "    params: The current parameters of the model\n",
    "    grads: The gradients from backward pass\n",
    "    learning_rate: The learning rate for GD\n",
    "    \n",
    "    Returns:\n",
    "    parameters: Parameters after gradient descent\n",
    "    \"\"\"\n",
    "    L = len(parameters) // 2\n",
    "    \n",
    "    for i in range(L):\n",
    "        parameters['W' + str(i+1)] -= learning_rate * grads['dW' + str(i+1)]\n",
    "        parameters['b' + str(i+1)] -= learning_rate * grads['db' + str(i+1)]\n",
    "    \n",
    "    return parameters"
   ]
  },
  {
   "cell_type": "markdown",
   "metadata": {},
   "source": [
    "## The full model"
   ]
  },
  {
   "cell_type": "code",
   "execution_count": 14,
   "metadata": {},
   "outputs": [],
   "source": [
    "parameters = initialize_parameters([7, 2, 1])"
   ]
  },
  {
   "cell_type": "code",
   "execution_count": 15,
   "metadata": {},
   "outputs": [
    {
     "name": "stdout",
     "output_type": "stream",
     "text": [
      "(7, 199)\n",
      "(1, 199)\n"
     ]
    }
   ],
   "source": [
    "grads = {}\n",
    "costs = []\n",
    "\n",
    "df = pd.read_csv('Data4.csv', header=None)\n",
    "X = np.array(df[df.columns[:-1]]).T\n",
    "Y = np.array(df[df.columns[-1]]).reshape(199, 1).T\n",
    "print(X.shape)\n",
    "print(Y.shape)\n",
    "\n",
    "m = X.shape[1]\n",
    "n_x, n_h, n_y = (7, 2, 1)"
   ]
  },
  {
   "cell_type": "code",
   "execution_count": 16,
   "metadata": {},
   "outputs": [],
   "source": [
    "W1 = parameters['W1']\n",
    "b1 = parameters['b1']\n",
    "W2 = parameters['W2']\n",
    "b2 = parameters['b2']"
   ]
  },
  {
   "cell_type": "code",
   "execution_count": 17,
   "metadata": {},
   "outputs": [],
   "source": [
    "for i in range(1000):\n",
    "    A3, caches = forward_propagate(X, parameters, ['relu', 'relu', 'sigmoid'])\n",
    "    cost = compute_cost(A3, Y)\n",
    "    grads = backward_prop(A3, Y, caches, ['relu', 'relu', 'sigmoid'])\n",
    "    parameters = update_parameters(parameters, grads, 0.01)\n",
    "    costs.append(cost)"
   ]
  },
  {
   "cell_type": "code",
   "execution_count": 18,
   "metadata": {},
   "outputs": [
    {
     "data": {
      "image/png": "[encoded data removed]",
      "text/plain": [
       "<Figure size 432x288 with 1 Axes>"
      ]
     },
     "metadata": {
      "needs_background": "light"
     },
     "output_type": "display_data"
    }
   ],
   "source": [
    "plt.plot(costs);"
   ]
  },
  {
   "cell_type": "code",
   "execution_count": null,
   "metadata": {},
   "outputs": [],
   "source": []
  }
 ],
 "metadata": {
  "kernelspec": {
   "display_name": "Python 3",
   "language": "python",
   "name": "python3"
  },
  "language_info": {
   "codemirror_mode": {
    "name": "ipython",
    "version": 3
   },
   "file_extension": ".py",
   "mimetype": "text/x-python",
   "name": "python",
   "nbconvert_exporter": "python",
   "pygments_lexer": "ipython3",
   "version": "3.7.1"
  }
 },
 "nbformat": 4,
 "nbformat_minor": 2
}
