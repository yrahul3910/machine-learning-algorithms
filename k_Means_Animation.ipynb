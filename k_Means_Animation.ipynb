{
  "nbformat": 4,
  "nbformat_minor": 0,
  "metadata": {
    "colab": {
      "name": "k-Means Animation.ipynb",
      "version": "0.3.2",
      "provenance": [],
      "collapsed_sections": []
    },
    "kernelspec": {
      "name": "python3",
      "display_name": "Python 3"
    }
  },
  "cells": [
    {
      "metadata": {
        "id": "7-4a1M7tlWjt",
        "colab_type": "code",
        "colab": {}
      },
      "cell_type": "code",
      "source": [
        "import numpy as np"
      ],
      "execution_count": 0,
      "outputs": []
    },
    {
      "metadata": {
        "id": "8aD2ySBRlYEg",
        "colab_type": "code",
        "colab": {}
      },
      "cell_type": "code",
      "source": [
        "def distance(a, b):\n",
        "    return np.sum(np.abs(a - b))"
      ],
      "execution_count": 0,
      "outputs": []
    },
    {
      "metadata": {
        "id": "2zMD9s2tlb3_",
        "colab_type": "code",
        "colab": {}
      },
      "cell_type": "code",
      "source": [
        "def min_dist(a):\n",
        "    return np.argmin([distance(a, C[i]) for i in range(3)])"
      ],
      "execution_count": 0,
      "outputs": []
    },
    {
      "metadata": {
        "id": "8-a8EoAbld32",
        "colab_type": "code",
        "colab": {}
      },
      "cell_type": "code",
      "source": [
        "def assign_clusters(L):\n",
        "    return np.array([min_dist(x) for x in L])"
      ],
      "execution_count": 0,
      "outputs": []
    },
    {
      "metadata": {
        "id": "A25hP-oflfSi",
        "colab_type": "code",
        "colab": {}
      },
      "cell_type": "code",
      "source": [
        "def get_clusters(arr):\n",
        "    return [np.where(arr == i)[0] for i in range(3)]"
      ],
      "execution_count": 0,
      "outputs": []
    },
    {
      "metadata": {
        "id": "TmTj06SZlhCG",
        "colab_type": "code",
        "colab": {}
      },
      "cell_type": "code",
      "source": [
        "def get_means(arr):\n",
        "    return [np.mean(x[i], axis=0) for i in arr]"
      ],
      "execution_count": 0,
      "outputs": []
    },
    {
      "metadata": {
        "id": "uT7ME_h6ligM",
        "colab_type": "code",
        "colab": {}
      },
      "cell_type": "code",
      "source": [
        "x = np.array([[2, 10], [2, 5], [8, 4], [5, 8], [7, 5], [6, 4], [1, 2], [4, 9]])\n",
        "C = np.array([[2, 10], [5, 8], [1, 2]])"
      ],
      "execution_count": 0,
      "outputs": []
    },
    {
      "metadata": {
        "id": "2FY55AqnllUq",
        "colab_type": "code",
        "colab": {}
      },
      "cell_type": "code",
      "source": [
        "import matplotlib.pyplot as plt\n",
        "from matplotlib import animation, rc"
      ],
      "execution_count": 0,
      "outputs": []
    },
    {
      "metadata": {
        "id": "pugBnULTlpMB",
        "colab_type": "code",
        "colab": {}
      },
      "cell_type": "code",
      "source": [
        "rc('animation', html='html5')"
      ],
      "execution_count": 0,
      "outputs": []
    },
    {
      "metadata": {
        "id": "Gk0OzXe0nqKk",
        "colab_type": "code",
        "colab": {}
      },
      "cell_type": "code",
      "source": [
        "colors = [(1, 0, 0), (0, 1, 0), (0, 0, 1)]"
      ],
      "execution_count": 0,
      "outputs": []
    },
    {
      "metadata": {
        "id": "glcA2IYjn2Sb",
        "colab_type": "code",
        "outputId": "8b2cb69d-34d9-4484-b476-bb829509930f",
        "colab": {
          "base_uri": "https://localhost:8080/",
          "height": 35
        }
      },
      "cell_type": "code",
      "source": [
        "assign_clusters(x)"
      ],
      "execution_count": 0,
      "outputs": [
        {
          "output_type": "execute_result",
          "data": {
            "text/plain": [
              "array([0, 2, 1, 1, 1, 1, 2, 1])"
            ]
          },
          "metadata": {
            "tags": []
          },
          "execution_count": 22
        }
      ]
    },
    {
      "metadata": {
        "id": "YWQITpUrr2m3",
        "colab_type": "code",
        "colab": {}
      },
      "cell_type": "code",
      "source": [
        "def step():\n",
        "    global C, clusters\n",
        "    clusters = get_clusters(assign_clusters(x))\n",
        "    C = get_means(clusters)\n",
        "    #print(C)"
      ],
      "execution_count": 0,
      "outputs": []
    },
    {
      "metadata": {
        "id": "IOERgadslsnp",
        "colab_type": "code",
        "outputId": "fe8d7abd-a9d8-43a0-b509-9f3bd64a3ba9",
        "colab": {
          "base_uri": "https://localhost:8080/",
          "height": 668
        }
      },
      "cell_type": "code",
      "source": [
        "x = np.array([[2, 10], [2, 5], [8, 4], [5, 8], [7, 5], [6, 4], [1, 2], [4, 9]])\n",
        "C = np.array([[2, 10], [5, 8], [1, 2]])\n",
        "\n",
        "fig = plt.figure()\n",
        "paths = plt.scatter(x.T[0], x.T[1], c=[colors[i] for i in assign_clusters(x)], cmap='hsv')\n",
        "scat, = plt.plot(C.T[0], C.T[1],'rx')\n",
        "plt.close()\n",
        "\n",
        "def init():\n",
        "    x = np.array([[2, 10], [2, 5], [8, 4], [5, 8], [7, 5], [6, 4], [1, 2], [4, 9]])\n",
        "    C = np.array([[2, 10], [5, 8], [1, 2]])\n",
        "    paths = plt.scatter(x.T[0], x.T[1], c=assign_clusters(x))\n",
        "    scat = plt.plot(C.T[0], C.T[1],'rx')\n",
        "    return paths,\n",
        "\n",
        "def animate(i):\n",
        "    step()\n",
        "    print(C)\n",
        "    print(assign_clusters(x))\n",
        "    #paths.set_color([colors[i] for i in assign_clusters(x)])\n",
        "    paths.set_array(assign_clusters(x))\n",
        "    scat.set_data(np.array(C).T[0], np.array(C).T[1])\n",
        "    return paths,\n",
        "\n",
        "animation.FuncAnimation(fig, animate, range(3), interval=2000, init_func=init)"
      ],
      "execution_count": 0,
      "outputs": [
        {
          "output_type": "stream",
          "text": [
            "[array([ 2., 10.]), array([6., 6.]), array([1.5, 3.5])]\n",
            "[0 2 1 1 1 1 2 0]\n",
            "[array([3. , 9.5]), array([6.5 , 5.25]), array([1.5, 3.5])]\n",
            "[0 2 1 0 1 1 2 0]\n",
            "[array([3.66666667, 9.        ]), array([7.        , 4.33333333]), array([1.5, 3.5])]\n",
            "[0 2 1 0 1 1 2 0]\n"
          ],
          "name": "stdout"
        },
        {
          "output_type": "execute_result",
          "data": {
            "text/html": [
              "<video width=\"432\" height=\"288\" controls autoplay loop>\n",
              "  <source type=\"video/mp4\" src=\"data:video/mp4;base64,AAAAHGZ0eXBNNFYgAAACAGlzb21pc28yYXZjMQAAAAhmcmVlAAASWm1kYXQAAAKtBgX//6ncRem9\n",
              "5tlIt5Ys2CDZI+7veDI2NCAtIGNvcmUgMTUyIHIyODU0IGU5YTU5MDMgLSBILjI2NC9NUEVHLTQg\n",
              "QVZDIGNvZGVjIC0gQ29weWxlZnQgMjAwMy0yMDE3IC0gaHR0cDovL3d3dy52aWRlb2xhbi5vcmcv\n",
              "eDI2NC5odG1sIC0gb3B0aW9uczogY2FiYWM9MSByZWY9MyBkZWJsb2NrPTE6MDowIGFuYWx5c2U9\n",
              "MHgzOjB4MTEzIG1lPWhleCBzdWJtZT03IHBzeT0xIHBzeV9yZD0xLjAwOjAuMDAgbWl4ZWRfcmVm\n",
              "PTEgbWVfcmFuZ2U9MTYgY2hyb21hX21lPTEgdHJlbGxpcz0xIDh4OGRjdD0xIGNxbT0wIGRlYWR6\n",
              "b25lPTIxLDExIGZhc3RfcHNraXA9MSBjaHJvbWFfcXBfb2Zmc2V0PS0yIHRocmVhZHM9MyBsb29r\n",
              "YWhlYWRfdGhyZWFkcz0xIHNsaWNlZF90aHJlYWRzPTAgbnI9MCBkZWNpbWF0ZT0xIGludGVybGFj\n",
              "ZWQ9MCBibHVyYXlfY29tcGF0PTAgY29uc3RyYWluZWRfaW50cmE9MCBiZnJhbWVzPTMgYl9weXJh\n",
              "bWlkPTIgYl9hZGFwdD0xIGJfYmlhcz0wIGRpcmVjdD0xIHdlaWdodGI9MSBvcGVuX2dvcD0wIHdl\n",
              "aWdodHA9MiBrZXlpbnQ9MjUwIGtleWludF9taW49MSBzY2VuZWN1dD00MCBpbnRyYV9yZWZyZXNo\n",
              "PTAgcmNfbG9va2FoZWFkPTQwIHJjPWNyZiBtYnRyZWU9MSBjcmY9MjMuMCBxY29tcD0wLjYwIHFw\n",
              "bWluPTAgcXBtYXg9NjkgcXBzdGVwPTQgaXBfcmF0aW89MS40MCBhcT0xOjEuMDAAgAAADBRliIQA\n",
              "F//+99S3zLLtU2+2C6j3op4mX0N1JQGblsTtOoAAAAMABnddzdfZ7UFwH2gAB6g//8NBKA8QAsrB\n",
              "hminYFRaTCrD/oSbBmQab2HnUbQX0iW9wVJxb9rI1KnpCHYS5qNH9z9ZNjrEqGyw3HSVV0FLsw3G\n",
              "N97i1slEActq0N5xbygCY7yLljdvd7YVq9iv4HtyhHOHSjk1QNAlWXUtaGDujDzNAhiZg1j5EsWn\n",
              "C1rWTb1NxaQYEtC4yEatAHvSni5/Yvp3DBwRhvavGW8azUpbHqU4j2/B7LpNrLuYqx3UywZ3KgWP\n",
              "Hc//xKRVNZ/f1GiKmQVv1QjB8p17s9bwOf61AR2L7xZRIFnoU6WRcxaxxcrQ7iYWamNu/4nmlJjg\n",
              "HKw5jWExMIRd0hL7Fx47BAwenU98GcyJSoOTnkhHek5WpzuC6pAAuqpAcZVTRAW/sF+vnmIJyb/W\n",
              "VRz7Z/EIfViSQXZUrWoXrXmKXBnxnRrRF7395eJpcrhalIGaYE8rpGYZfafpISLDn/D3l2Fw8yci\n",
              "llSugwoy4vgMT2XETgABdT+XQ9l+d7qfuy3+PAIVAAcJWgiAemGGb91D+58y0tChOMmMY8CGWqdy\n",
              "1gK2ui6h52qyTfyrxEVaJUFATVr/msmHvUKzFTu5uakVI+apj5/wu8bkCDPirxjbR7wa+taiqiXr\n",
              "cq9or3yWIG+wgXPG78ADJrcyeFRJmgC4/MBLOkUoVqcuoWzuP8LXnvPGepzczoLHBTL5RT8P+jLk\n",
              "YXxaoQgiAXB/jg/YRQffyGhTwlEpvhZE2FLZbAacqnLBMMVbf65eLdwdPbvQ7+NmBJXNQtsMYMg+\n",
              "4EQCV9VgtVDH4TjPRsI/VqLjb2LOfoI5zUxBVYZm8czEK1w7cvJmzwJUN9137SL+qU+xyeS1HyKV\n",
              "mWuBx3kWW+88VvTuxOdyFbfiQxRGN2KfQYGscpdaf+XivmzMHLTC0GX1JIUvz3RtDGvq/ChXtIJu\n",
              "G+ndYDAxwx681j3c1sXCGUi/jDcxJ+IM+uox1U+XYnX4DIv3z1S8zF07BV3l7yuQUihPTRaBVFuu\n",
              "oktrlBRiAXcH5N/+UaanF7WH5+BK8b7yrIZzAz7BZyTod/iOrJlAAu8E5kSgNdnt9TKdGDKstYdd\n",
              "KAbmSgK5YV1iWe86Kd2vNIy0r/+FZ7Si+EX+sPeuYVm5S7+eSX71D5uPexzBbVVCIqD7f7Ze4YSz\n",
              "90ULlsLe+SzNgTn1Hm966tsfLEu/ihhN8MwGOwHlIxIj55UBww4nwRhc8YBY3fyXaYZUMATG4rC+\n",
              "g0+E8grAos+l1CK4yqdDRkPLCDV6oEuphpladreeWXvdldJFV59q81VUdJ2hHO9GiwrNPmG3a6xX\n",
              "lkHfPPy1PZAdDMd7sQmNCICb+nwXscpUiU/m9hU8ZlZp4y7M4TEzSEF4Tdma5ePt+o/UVqmQLina\n",
              "9kuurKJy2cR6KqB8mZEKP/0UY/YdJ7mQdXyKnvwRRqWPWSP3bF8odRhn91sB/bPuPNT47OHTfaiu\n",
              "t2sczZlePrzXkqZRXkzcRliIhRCr95ufzlT4lFKLcZWQviv8buAOakpHGf+ODai7+9QSta8MyYua\n",
              "ti7U+rVNFkkagZIrncTVh9aN4J67NmUmWRL+IGzR8C2hQJ+8CPnrKGAu8VinS5ocLl8DIBaMA8Yq\n",
              "wc7X2BhtnuQoDC6uJaISHkUJov9s9sGVlFXCWDkMuQmPd14hyL1PvDkjfjO7mpd0GKNvJg9leTs0\n",
              "gwPK1S/m0nikdH5jQ6Y3cS7x3bYw/9rCXlYn2V1FGSyRSPq8jjh+imL21o3/nOveJTmmrCc2v48H\n",
              "k6QFQyKrjCAqg/nJz+HroMpLvG/csH8ZG3nfS9EAPOU3bvu/5A18fh/OzIvtnwjoNv1GQ1Ui65NR\n",
              "ACN+SmQx/N4gxjkOgGNNJmTVkWSBSYeMHUotKL7VNfDMcBcgvqH29VRiJz99blHJgSP/eNBRmAf/\n",
              "+qkdserj1X2VrbK5NNKtRaSD/ClXzDUQJ1mTRgmtPkgV9g83v40o5qVfSmvK2d1xDbsOOBI6q78A\n",
              "5TtygQXHM3wVZe0oA4pBZuOUDvN9Fe8QUg72Z5zK90qJMQR4XD0g7qriB/bzBNwArs0KbbbHHFDo\n",
              "oSID5B/RisT637Mm+bPg1fL60gmH9l8lO57Hrlz0ZUDqfNdJAHpCxhCAxqGjYhEbRpNm/taHCt3k\n",
              "X/fZbbevssYRet8H7FU+nu4Yj30O8TfPs/0Utv688Wi01h3U2p3ND24x+QA9jRACtXSRetcyPjJ/\n",
              "Vk/WPdeUj+BRbmauadeQzTogyBvGr595RqSTLv2SioGmuoxXQd0f/QBPyXZnT22lPx+ETj5vqMSm\n",
              "jYv7gkqovjwjukQAJBH2ILYRKUvIGqPmGuw0PXEtWfLW+jtqPRh1odJC0xQ1NvCbnF874NrBzcws\n",
              "/GDCJyAbefqGqylMpj7dP+xzQ9tAwvwEGfTn0Y5Adtp9ULkRyBneQzP8r9+AWnP12IEX0j2Qcrzy\n",
              "IFM/EfbY7KHx/Mj4NMeBJMPSIHqpoGrrnz3Xdls1qLPWpy9OHrDaaWKMZcagCGPZvBJcKTfNYm45\n",
              "+uTKn1VeVOP+GsEcLm6bLwcQqz4djRFZO/dQjJXrsFpetF+RUx+LAU0WLet2qUqZLzNRLsZKRGz9\n",
              "GWyUoqs6Vy/HABLLF9o5Yvd47mEBKKrJK+mdEmcKl9vZ/ZuB5zB3syyhBk9x/6bfk/8or4zlNvm5\n",
              "IPj9JxfNUxoF/hlE/PkGfqunQn51DJY/uDPdWljmzJaW7PWTuKJamvmtwgABCwnZWpaH9/KsYqC1\n",
              "HQtw5w+EFt/o0IMLMrBqWBMbPPVXHknZFYMOHn6f6qEq+9Ui8Csyu3aAitEt7+GBAYvVcNpYfRf+\n",
              "eO3XaGGpmQ1gsaeUBVLQQAs1e/kAEOehQKtmEWIFhHYsSckDQ7Ka0sJuz7Nm7D0g11auel1zHCM1\n",
              "//g3Ch359nm2sSc6GdkrMeBZG8h8p6MYXD3jan449gbyRYl9yGYlv3uzY+inFnf/zn0yZAKZc1Hd\n",
              "NFCo8FhZx/Q3ewRB1xhxx+xf0R37Z3jDAidGIDijjCfPmW4p+PZBQiY0Thrp6Ls72qOxCqYl9ZTk\n",
              "XdbiPZPTn0PlmD0WCmO9fgSCRm7+WBl+38/zJbRFZOdQW2ihXfoISomNGMGbglVXoY6xhEmM5xJ3\n",
              "xV3kUmxZijXGo8QENqp+0GAUUvETzLRs92toUYYwpzJezgXjKhW9oxV1mLR+IYYzfeoNtHJV+U19\n",
              "mG/h8H07wM1YutwD6n/0DpMtkeq6dIrj7vIt+uocGsPfj9s5sv/P3maYn5BKr+cBlW9t7d77J9qQ\n",
              "coXbCmj9QweiamzVb/E7RToWAAg9Mzm7Uut4VqFn2B4FDoURi2YoI7bCBJmYAQjx5IZzHxPE8HfL\n",
              "L/98u4o0AlVsbjqB5dnFQ2xxWZndq56i/qrHL82Fz2v+0VutqOuXdHWRqfVxKDF/2gnX4Xwe+DXE\n",
              "sg5viVSnuC1GHv9GKRGo0lJmL49258/JtMGvUyoH8zfTOLioJBUE55dRWbKt/1pyzk+9Cvaoq3Bh\n",
              "iPHSYHn2xhlqhU2GNIJr09wDyPjo8lVsOrUlH3JO64z1kKeTVUVszyJUhAOpJ8SYo2yxymOJgddE\n",
              "uCgWtuiWPIqOsQnvhY7Np2QvSugwEcLD35K6cgjXe4vbP18BTYqh9D3vzHVnO/LHuPGjkCBpyn1U\n",
              "6tq4MJj+CbKncH2iKR3cQYP8obDTX+cdcfAYsiFexTGyD3htkcMgzHme6tpYhwSHjSOamb92bgNk\n",
              "K60nX2f3ZvuiXhe8KMLZgpGmrWzWPMQTFYyIDQu7ZzS6XFK1R6Hpv+8xNzSERtM0GM6EWA31w5gR\n",
              "yv6XIR7F+1yqXwa/5pXZ8cw2xHKhSuZveu9ci6aIVLYS4bQeV9JNVYwyXDskQWE+kygslEzHqx0w\n",
              "FnWJ+cw8HxOR7LIfW7APRnc29VqGGxDS48SUT2fg66e8DRPzRaQnspb1kisDe6koJItQOQMfUUM8\n",
              "6f8l1mCFCWpjvnFep06RO5wAzyIZmwkDRDiaU3AX3VEtMWUEkttAGCZz5G9iKO5gETEl2VmpkYqe\n",
              "2Pcr/AABGZgqoQAAAnFBmiJsQV/+1qVQA+W3wgA2WSAaEP+/TfWZ87gk7ERoZTIsq0OW229+uJPK\n",
              "bV4My+OAStuirG5723JsVn/1lp3KUGyQETe3F/ZTH994DimE2uzPxCCY6Ij0jgbkrbtuQISZN8cV\n",
              "dFy74FMSZoaN27qwKL7ItP3iJeii0lx8bisWZgIAtJl+r3bpl1n2DMmiYX5oRhgM9zjeaf3xkTgk\n",
              "1OjLxobdOi+fAOIAN4e49mrKEMvZzkIewBGph184mIdfEjooAj6ACleZ02LCBzn683/4HfjPLeU2\n",
              "U9yAurKuGs4Nr13O2Tpqh+W7mIpN6/8Ukc+uGxiZrfQ8ipBT5BQ6j/6kyx+N8rHsSeI6FgqUJQtN\n",
              "G6UTnxYzoqDpwjh95DV2ZEWP6hBAaAKI/vIsplQg7qfKYysMSTV6Xss8h6bsmMoiVJwuqpO6Ro7a\n",
              "akgpIfwwQUKvBuFAeyz+YQ02fV+BsFhM5qVMhPik3kSuF75mQRNTLLTdAjgUbIrFCRnsDNLSQ+wR\n",
              "BKuEOMS4gzeW7GhB4oGBU1emEbbhF/ag2lN9QAgWaWv2PpKKnjwge2utxrZfkNkE6ZK9Vk0E2Z21\n",
              "Pd48LJnVL6LzJkN+SONOsysYBHJN8MFIo77Mz/Tf+Hn5QooVomtu2KmsAWS/olJGzUBdRYvhSAaw\n",
              "vgvA++UPb+DxtCxCdweJe3FjyfmHJIeaMnXpUMqRzg1pzdmZHjaBl5MyedF9jW9WqAS5iuwNd269\n",
              "yT0gUmRq2w6JrxncJwwE8dSVnc0UBcX0LKqqv0u7lLZBAzn4yQa1FD9pG4ykV9ygUUHed1JEiRWA\n",
              "bZU6qmn+O/FYtBZwAAABEAGeQXkFfwACRyK8IPf/QMGZ/rccF+gUAJZdBDV2OxAUeYImFCI05+xG\n",
              "DK+lBcXZ3HM1HiwQMl8WOugnh34w1rJx4L1Mrx5g0i+Wdw3H5xSkBB6WokOqlLb6V2iO92VVC8Ia\n",
              "R3TMPVn8wPdJj7OWtVi/Nx3IMafQBo2NC4bsbC+RZpkq2Q1QaX9j4l13wUJZgGeB8YWk81ODA803\n",
              "30yEGQMezDrLHBoWwwcz8aCqM9X923NuzFYT9tXIAGVeIA0KZx5z90djIGyHW7Yqg2wzm5fWcyKZ\n",
              "T97p0zuao7Ouvx1G4SkwjlLchiKABhNa6b557F7c6gUCJ/rokapURpppMwMgag67uhNtqtXmFKBf\n",
              "D9XnAAADUm1vb3YAAABsbXZoZAAAAAAAAAAAAAAAAAAAA+gAABdwAAEAAAEAAAAAAAAAAAAAAAAB\n",
              "AAAAAAAAAAAAAAAAAAAAAQAAAAAAAAAAAAAAAAAAQAAAAAAAAAAAAAAAAAAAAAAAAAAAAAAAAAAA\n",
              "AAAAAAIAAAJ8dHJhawAAAFx0a2hkAAAAAwAAAAAAAAAAAAAAAQAAAAAAABdwAAAAAAAAAAAAAAAA\n",
              "AAAAAAABAAAAAAAAAAAAAAAAAAAAAQAAAAAAAAAAAAAAAAAAQAAAAAGwAAABIAAAAAAAJGVkdHMA\n",
              "AAAcZWxzdAAAAAAAAAABAAAXcAABAAAAAQAAAAAB9G1kaWEAAAAgbWRoZAAAAAAAAAAAAAAAAAAA\n",
              "QAAAAYAAVcQAAAAAAC1oZGxyAAAAAAAAAAB2aWRlAAAAAAAAAAAAAAAAVmlkZW9IYW5kbGVyAAAA\n",
              "AZ9taW5mAAAAFHZtaGQAAAABAAAAAAAAAAAAAAAkZGluZgAAABxkcmVmAAAAAAAAAAEAAAAMdXJs\n",
              "IAAAAAEAAAFfc3RibAAAALNzdHNkAAAAAAAAAAEAAACjYXZjMQAAAAAAAAABAAAAAAAAAAAAAAAA\n",
              "AAAAAAGwASAASAAAAEgAAAAAAAAAAQAAAAAAAAAAAAAAAAAAAAAAAAAAAAAAAAAAAAAAAAAAABj/\n",
              "/wAAADFhdmNDAWQAFf/hABhnZAAVrNlBsJaEAAADAAgAAAMACDxYtlgBAAZo6+PLIsAAAAAcdXVp\n",
              "ZGtoQPJfJE/FujmlG88DI/MAAAAAAAAAGHN0dHMAAAAAAAAAAQAAAAMAAIAAAAAAFHN0c3MAAAAA\n",
              "AAAAAQAAAAEAAAAoY3R0cwAAAAAAAAADAAAAAQABAAAAAAABAAGAAAAAAAEAAIAAAAAAHHN0c2MA\n",
              "AAAAAAAAAQAAAAEAAAADAAAAAQAAACBzdHN6AAAAAAAAAAAAAAADAAAOyQAAAnUAAAEUAAAAFHN0\n",
              "Y28AAAAAAAAAAQAAACwAAABidWR0YQAAAFptZXRhAAAAAAAAACFoZGxyAAAAAAAAAABtZGlyYXBw\n",
              "bAAAAAAAAAAAAAAAAC1pbHN0AAAAJal0b28AAAAdZGF0YQAAAAEAAAAATGF2ZjU3LjgzLjEwMA==\n",
              "\">\n",
              "  Your browser does not support the video tag.\n",
              "</video>"
            ],
            "text/plain": [
              "<matplotlib.animation.FuncAnimation at 0x7f2037377630>"
            ]
          },
          "metadata": {
            "tags": []
          },
          "execution_count": 104
        },
        {
          "output_type": "display_data",
          "data": {
            "image/png": "[encoded data removed]",
            "text/plain": [
              "<Figure size 432x288 with 1 Axes>"
            ]
          },
          "metadata": {
            "tags": []
          }
        }
      ]
    },
    {
      "metadata": {
        "id": "2r-c0olyySWA",
        "colab_type": "code",
        "colab": {}
      },
      "cell_type": "code",
      "source": [
        ""
      ],
      "execution_count": 0,
      "outputs": []
    }
  ]
}