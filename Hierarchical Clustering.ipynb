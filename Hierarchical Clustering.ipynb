{
 "cells": [
  {
   "cell_type": "code",
   "execution_count": 14,
   "metadata": {},
   "outputs": [],
   "source": [
    "import numpy as np\n",
    "from pprint import pprint"
   ]
  },
  {
   "cell_type": "code",
   "execution_count": 17,
   "metadata": {},
   "outputs": [],
   "source": [
    "d = [[0, 0.24, 0.22, 0.37, 0.34, 0.23], \n",
    "     [0.24, 0, 0.15, 0.2, 0.14, 0.25],\n",
    "     [0.22, 0.15, 0, 0.15, 0.28, 0.11],\n",
    "     [0.37, 0.2, 0.15, 0, 0.29, 0.22],\n",
    "     [0.34, 0.14, 0.28, 0.29, 0, 0.39],\n",
    "     [0.23, 0.25, 0.11, 0.22, 0.39, 0]]"
   ]
  },
  {
   "cell_type": "code",
   "execution_count": 5,
   "metadata": {},
   "outputs": [],
   "source": [
    "def update(dist, i, j, k, alpha1, alpha2, beta, gamma):\n",
    "    return alpha1 * dist[i][k] + alpha2 * dist[j][k] + beta * dist[i][j] + \\\n",
    "        gamma * abs(dist[i][k] - dist[j][k])"
   ]
  },
  {
   "cell_type": "code",
   "execution_count": 6,
   "metadata": {},
   "outputs": [],
   "source": [
    "def single_link(dist, i, j, k):\n",
    "    return update(dist, i, j, k, 0.5, 0.5, 0, -0.5)"
   ]
  },
  {
   "cell_type": "code",
   "execution_count": 29,
   "metadata": {},
   "outputs": [],
   "source": [
    "d1 = np.copy(d)"
   ]
  },
  {
   "cell_type": "code",
   "execution_count": 36,
   "metadata": {},
   "outputs": [],
   "source": [
    "d1[d1 == 0] = np.max(d1) + 1"
   ]
  },
  {
   "cell_type": "code",
   "execution_count": 37,
   "metadata": {},
   "outputs": [
    {
     "data": {
      "text/plain": [
       "array([[1.39, 0.24, 0.22, 0.37, 0.34, 0.23],\n",
       "       [0.24, 1.39, 0.15, 0.2 , 0.14, 0.25],\n",
       "       [0.22, 0.15, 1.39, 0.15, 0.28, 0.11],\n",
       "       [0.37, 0.2 , 0.15, 1.39, 0.29, 0.22],\n",
       "       [0.34, 0.14, 0.28, 0.29, 1.39, 0.39],\n",
       "       [0.23, 0.25, 0.11, 0.22, 0.39, 1.39]])"
      ]
     },
     "execution_count": 37,
     "metadata": {},
     "output_type": "execute_result"
    }
   ],
   "source": [
    "d1"
   ]
  },
  {
   "cell_type": "code",
   "execution_count": 40,
   "metadata": {},
   "outputs": [],
   "source": [
    "indices = np.unravel_index(np.argmin(d1), d1.shape)"
   ]
  },
  {
   "cell_type": "code",
   "execution_count": 41,
   "metadata": {},
   "outputs": [],
   "source": [
    "d2 = np.delete(d1, indices[0], axis=0)\n",
    "d2 = np.delete(d2, indices[1] - 1, axis=0)\n",
    "\n",
    "d2 = np.delete(d2, indices[0], axis=1)\n",
    "d2 = np.delete(d2, indices[1] - 1, axis=1)"
   ]
  },
  {
   "cell_type": "code",
   "execution_count": 42,
   "metadata": {},
   "outputs": [
    {
     "data": {
      "text/plain": [
       "array([[1.39, 0.24, 0.37, 0.34],\n",
       "       [0.24, 1.39, 0.2 , 0.14],\n",
       "       [0.37, 0.2 , 1.39, 0.29],\n",
       "       [0.34, 0.14, 0.29, 1.39]])"
      ]
     },
     "execution_count": 42,
     "metadata": {},
     "output_type": "execute_result"
    }
   ],
   "source": [
    "d2"
   ]
  },
  {
   "cell_type": "code",
   "execution_count": 45,
   "metadata": {},
   "outputs": [
    {
     "data": {
      "text/plain": [
       "array([[0.  , 0.  , 0.  , 0.  , 0.  ],\n",
       "       [0.  , 1.39, 0.24, 0.37, 0.34],\n",
       "       [0.  , 0.24, 1.39, 0.2 , 0.14],\n",
       "       [0.  , 0.37, 0.2 , 1.39, 0.29],\n",
       "       [0.  , 0.34, 0.14, 0.29, 1.39]])"
      ]
     },
     "execution_count": 45,
     "metadata": {},
     "output_type": "execute_result"
    }
   ],
   "source": [
    "d2 = np.insert(d2, 0, 0, axis=1)\n",
    "d2 = np.insert(d2, 0, 0, axis=0)\n",
    "d2"
   ]
  },
  {
   "cell_type": "markdown",
   "metadata": {},
   "source": [
    "At this point, the index--point mappings are as below:  \n",
    "\n",
    "* 0: Cluster (3, 6)\n",
    "* 1: (1)\n",
    "* 2: (2)\n",
    "* 3: (4)\n",
    "* 4: (5)"
   ]
  },
  {
   "cell_type": "code",
   "execution_count": 51,
   "metadata": {},
   "outputs": [
    {
     "name": "stdout",
     "output_type": "stream",
     "text": [
      "1 0.22\n",
      "2 0.15000000000000002\n",
      "3 0.15\n",
      "4 0.28\n"
     ]
    }
   ],
   "source": [
    "cur_index = 0\n",
    "for i in range(len(d)):\n",
    "    if i not in indices:\n",
    "        cur_index += 1\n",
    "        d2[0][cur_index] = d2[cur_index][0] = single_link(d1, indices[0], indices[1], i)\n",
    "        print(cur_index, single_link(d1, indices[0], indices[1], i))"
   ]
  },
  {
   "cell_type": "code",
   "execution_count": 56,
   "metadata": {},
   "outputs": [
    {
     "data": {
      "text/plain": [
       "array([[1.39, 0.22, 0.15, 0.15, 0.28],\n",
       "       [0.22, 1.39, 0.24, 0.37, 0.34],\n",
       "       [0.15, 0.24, 1.39, 0.2 , 0.14],\n",
       "       [0.15, 0.37, 0.2 , 1.39, 0.29],\n",
       "       [0.28, 0.34, 0.14, 0.29, 1.39]])"
      ]
     },
     "execution_count": 56,
     "metadata": {},
     "output_type": "execute_result"
    }
   ],
   "source": [
    "d2[0][0] = d2[1][1]  # Make this also a high value\n",
    "d2"
   ]
  },
  {
   "cell_type": "markdown",
   "metadata": {},
   "source": [
    "Note that the diagonal elements here are actually 0. We now repeat this process."
   ]
  },
  {
   "cell_type": "code",
   "execution_count": 57,
   "metadata": {},
   "outputs": [],
   "source": [
    "indices = np.unravel_index(np.argmin(d2), d2.shape)"
   ]
  },
  {
   "cell_type": "code",
   "execution_count": 58,
   "metadata": {},
   "outputs": [
    {
     "data": {
      "text/plain": [
       "(2, 4)"
      ]
     },
     "execution_count": 58,
     "metadata": {},
     "output_type": "execute_result"
    }
   ],
   "source": [
    "indices"
   ]
  },
  {
   "cell_type": "markdown",
   "metadata": {},
   "source": [
    "This means we're merging points 2 and 5 now (see the mapping we wrote above)."
   ]
  },
  {
   "cell_type": "code",
   "execution_count": 59,
   "metadata": {},
   "outputs": [],
   "source": [
    "d3 = np.delete(d2, indices[0], axis=0)\n",
    "d3 = np.delete(d3, indices[1] - 1, axis=0)\n",
    "\n",
    "d3 = np.delete(d3, indices[0], axis=1)\n",
    "d3 = np.delete(d3, indices[1] - 1, axis=1)"
   ]
  },
  {
   "cell_type": "code",
   "execution_count": 60,
   "metadata": {},
   "outputs": [
    {
     "data": {
      "text/plain": [
       "array([[1.39, 0.22, 0.15],\n",
       "       [0.22, 1.39, 0.37],\n",
       "       [0.15, 0.37, 1.39]])"
      ]
     },
     "execution_count": 60,
     "metadata": {},
     "output_type": "execute_result"
    }
   ],
   "source": [
    "d3"
   ]
  },
  {
   "cell_type": "code",
   "execution_count": 61,
   "metadata": {},
   "outputs": [
    {
     "data": {
      "text/plain": [
       "array([[0.  , 0.  , 0.  , 0.  ],\n",
       "       [0.  , 1.39, 0.22, 0.15],\n",
       "       [0.  , 0.22, 1.39, 0.37],\n",
       "       [0.  , 0.15, 0.37, 1.39]])"
      ]
     },
     "execution_count": 61,
     "metadata": {},
     "output_type": "execute_result"
    }
   ],
   "source": [
    "d3 = np.insert(d3, 0, 0, axis=1)\n",
    "d3 = np.insert(d3, 0, 0, axis=0)\n",
    "d3"
   ]
  },
  {
   "cell_type": "markdown",
   "metadata": {},
   "source": [
    "Our mapping is now as follows:\n",
    "\n",
    "|Index|Original points  \n",
    "|---|---|\n",
    "|0|(2, 5)|\n",
    "|1|(3, 6)|\n",
    "|2|(1)|\n",
    "|3|(4)|"
   ]
  },
  {
   "cell_type": "code",
   "execution_count": 63,
   "metadata": {},
   "outputs": [
    {
     "name": "stdout",
     "output_type": "stream",
     "text": [
      "1 0.15000000000000002\n",
      "2 0.24000000000000002\n",
      "3 0.2\n"
     ]
    }
   ],
   "source": [
    "cur_index = 0\n",
    "for i in range(len(d2)):\n",
    "    if i not in indices:\n",
    "        cur_index += 1\n",
    "        d3[0][cur_index] = d3[cur_index][0] = single_link(d2, indices[0], indices[1], i)\n",
    "        print(cur_index, single_link(d2, indices[0], indices[1], i))"
   ]
  },
  {
   "cell_type": "code",
   "execution_count": 64,
   "metadata": {},
   "outputs": [
    {
     "data": {
      "text/plain": [
       "array([[0.  , 0.15, 0.24, 0.2 ],\n",
       "       [0.15, 1.39, 0.22, 0.15],\n",
       "       [0.24, 0.22, 1.39, 0.37],\n",
       "       [0.2 , 0.15, 0.37, 1.39]])"
      ]
     },
     "execution_count": 64,
     "metadata": {},
     "output_type": "execute_result"
    }
   ],
   "source": [
    "d3"
   ]
  },
  {
   "cell_type": "code",
   "execution_count": 65,
   "metadata": {},
   "outputs": [
    {
     "data": {
      "text/plain": [
       "array([[1.39, 0.15, 0.24, 0.2 ],\n",
       "       [0.15, 1.39, 0.22, 0.15],\n",
       "       [0.24, 0.22, 1.39, 0.37],\n",
       "       [0.2 , 0.15, 0.37, 1.39]])"
      ]
     },
     "execution_count": 65,
     "metadata": {},
     "output_type": "execute_result"
    }
   ],
   "source": [
    "d3[0][0] = d3[1][1]\n",
    "d3"
   ]
  },
  {
   "cell_type": "markdown",
   "metadata": {},
   "source": [
    "Repeat again"
   ]
  },
  {
   "cell_type": "code",
   "execution_count": 68,
   "metadata": {},
   "outputs": [
    {
     "name": "stdout",
     "output_type": "stream",
     "text": [
      "(1, 3)\n",
      "1 0.15000000000000002\n",
      "2 0.21999999999999997\n"
     ]
    }
   ],
   "source": [
    "indices = np.unravel_index(np.argmin(d3), d3.shape)\n",
    "print(indices)\n",
    "\n",
    "d4 = np.delete(d3, indices[0], axis=0)\n",
    "d4 = np.delete(d4, indices[1] - 1, axis=0)\n",
    "\n",
    "d4 = np.delete(d4, indices[0], axis=1)\n",
    "d4 = np.delete(d4, indices[1] - 1, axis=1)\n",
    "\n",
    "d4 = np.insert(d4, 0, 0, axis=1)\n",
    "d4 = np.insert(d4, 0, 0, axis=0)\n",
    "\n",
    "cur_index = 0\n",
    "for i in range(len(d3)):\n",
    "    if i not in indices:\n",
    "        cur_index += 1\n",
    "        d4[0][cur_index] = d4[cur_index][0] = single_link(d3, indices[0], indices[1], i)\n",
    "        print(cur_index, single_link(d3, indices[0], indices[1], i))"
   ]
  },
  {
   "cell_type": "code",
   "execution_count": 69,
   "metadata": {},
   "outputs": [
    {
     "data": {
      "text/plain": [
       "array([[1.39, 0.15, 0.22],\n",
       "       [0.15, 1.39, 0.24],\n",
       "       [0.22, 0.24, 1.39]])"
      ]
     },
     "execution_count": 69,
     "metadata": {},
     "output_type": "execute_result"
    }
   ],
   "source": [
    "d4[0][0] = d4[1][1]\n",
    "d4"
   ]
  },
  {
   "cell_type": "markdown",
   "metadata": {},
   "source": [
    "## Function to automatically cluster"
   ]
  },
  {
   "cell_type": "markdown",
   "metadata": {},
   "source": [
    "Let's now write a function to generalize this process."
   ]
  },
  {
   "cell_type": "code",
   "execution_count": 74,
   "metadata": {},
   "outputs": [],
   "source": [
    "from sklearn.metrics import pairwise_distances"
   ]
  },
  {
   "cell_type": "code",
   "execution_count": 118,
   "metadata": {},
   "outputs": [],
   "source": [
    "def hierarchical_cluster(points, metric='euclidean'):\n",
    "    dist = pairwise_distances(points, metric=metric)\n",
    "    print('Distance matrix:')\n",
    "    print(dist)\n",
    "    \n",
    "    dist[dist == 0] = np.max(dist) + 1\n",
    "    \n",
    "    # Maintain a list of clusters\n",
    "    clusters = [str(i) for i in range(1, len(dist) + 1)]\n",
    "    \n",
    "    # Convert to numpy array and set dtype of appropriate size\n",
    "    dtype = '<U' + str(5 * sum([len(i) for i in clusters]))\n",
    "    clusters = np.array(clusters, dtype=dtype)\n",
    "    \n",
    "    for _ in range(len(dist) - 1):\n",
    "        # Find the indices of the minimum element\n",
    "        indices = np.unravel_index(np.argmin(dist), dist.shape)\n",
    "\n",
    "        # Update the cluster list\n",
    "        c1 = clusters[indices[0]]\n",
    "        c2 = clusters[indices[1]]\n",
    "        new_cluster = '(' + c1 + ', ' + c2 + ')'\n",
    "        print(new_cluster)\n",
    "        clusters = np.delete(clusters, indices)\n",
    "        clusters = np.insert(clusters, 0, new_cluster, axis=0)\n",
    "        print('Clusters:', clusters)\n",
    "\n",
    "        # Build a new distance matrix: start by removing the older points\n",
    "        new_dist = np.delete(dist, indices[0], axis=0)\n",
    "        new_dist = np.delete(new_dist, indices[1] - 1, axis=0)\n",
    "        new_dist = np.delete(new_dist, indices[0], axis=1)\n",
    "        new_dist = np.delete(new_dist, indices[1] - 1, axis=1)\n",
    "\n",
    "        # Next, add the combined cluster at the beginning. Start by\n",
    "        # creating spaces for the distances between this new cluster\n",
    "        # and all other clusters.\n",
    "        new_dist = np.insert(new_dist, 0, 0, axis=1)\n",
    "        new_dist = np.insert(new_dist, 0, 0, axis=0)\n",
    "\n",
    "        # Fill in values of the distances using the Lance-Williams equation\n",
    "        cur_index = 0\n",
    "        for i in range(len(dist)):\n",
    "            if i not in indices:\n",
    "                cur_index += 1\n",
    "                new_dist[0][cur_index] = new_dist[cur_index][0] = single_link(dist, \n",
    "                                                                              indices[0], \n",
    "                                                                              indices[1], \n",
    "                                                                              i)\n",
    "        new_dist[0][0] = np.max(new_dist) + 1\n",
    "        dist = new_dist\n",
    "    \n",
    "    return clusters"
   ]
  },
  {
   "cell_type": "code",
   "execution_count": 119,
   "metadata": {},
   "outputs": [
    {
     "name": "stdout",
     "output_type": "stream",
     "text": [
      "Distance matrix:\n",
      "[[0.         0.23430749 0.21587033 0.36769553 0.34176015 0.23537205]\n",
      " [0.23430749 0.         0.14317821 0.19416488 0.14317821 0.24351591]\n",
      " [0.21587033 0.14317821 0.         0.15811388 0.28460499 0.10198039]\n",
      " [0.36769553 0.19416488 0.15811388 0.         0.28425341 0.21954498]\n",
      " [0.34176015 0.14317821 0.28460499 0.28425341 0.         0.38600518]\n",
      " [0.23537205 0.24351591 0.10198039 0.21954498 0.38600518 0.        ]]\n",
      "(3, 6)\n",
      "Clusters: ['(3, 6)' '1' '2' '4' '5']\n",
      "(2, 5)\n",
      "Clusters: ['(2, 5)' '(3, 6)' '1' '4']\n",
      "((2, 5), (3, 6))\n",
      "Clusters: ['((2, 5), (3, 6))' '1' '4']\n",
      "(((2, 5), (3, 6)), 4)\n",
      "Clusters: ['(((2, 5), (3, 6)), 4)' '1']\n",
      "((((2, 5), (3, 6)), 4), 1)\n",
      "Clusters: ['((((2, 5), (3, 6)), 4), 1)']\n"
     ]
    },
    {
     "data": {
      "text/plain": [
       "array(['((((2, 5), (3, 6)), 4), 1)'], dtype='<U30')"
      ]
     },
     "execution_count": 119,
     "metadata": {},
     "output_type": "execute_result"
    }
   ],
   "source": [
    "hierarchical_cluster([[0.4, 0.53], [0.22, 0.38], [0.35, 0.32], [0.26, 0.19], [0.08, 0.41], [0.45, 0.30]])"
   ]
  },
  {
   "cell_type": "code",
   "execution_count": null,
   "metadata": {},
   "outputs": [],
   "source": []
  }
 ],
 "metadata": {
  "kernelspec": {
   "display_name": "Python 3",
   "language": "python",
   "name": "python3"
  },
  "language_info": {
   "codemirror_mode": {
    "name": "ipython",
    "version": 3
   },
   "file_extension": ".py",
   "mimetype": "text/x-python",
   "name": "python",
   "nbconvert_exporter": "python",
   "pygments_lexer": "ipython3",
   "version": "3.5.3"
  }
 },
 "nbformat": 4,
 "nbformat_minor": 2
}
