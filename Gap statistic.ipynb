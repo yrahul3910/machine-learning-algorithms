{
 "cells": [
  {
   "cell_type": "code",
   "execution_count": 68,
   "metadata": {
    "colab": {},
    "colab_type": "code",
    "id": "7-4a1M7tlWjt"
   },
   "outputs": [],
   "source": [
    "import numpy as np\n",
    "import itertools\n",
    "import matplotlib.pyplot as plt\n",
    "from sklearn.datasets import make_blobs"
   ]
  },
  {
   "cell_type": "code",
   "execution_count": 21,
   "metadata": {
    "colab": {},
    "colab_type": "code",
    "id": "8aD2ySBRlYEg"
   },
   "outputs": [],
   "source": [
    "def distance(a, b):\n",
    "    a = np.array(a)\n",
    "    b = np.array(b)\n",
    "    return np.linalg.norm(a - b) ** 2"
   ]
  },
  {
   "cell_type": "code",
   "execution_count": 3,
   "metadata": {
    "colab": {},
    "colab_type": "code",
    "id": "2zMD9s2tlb3_"
   },
   "outputs": [],
   "source": [
    "def min_dist(a):\n",
    "    return np.argmin([distance(a, C[i]) for i in range(len(C))])"
   ]
  },
  {
   "cell_type": "code",
   "execution_count": 4,
   "metadata": {
    "colab": {},
    "colab_type": "code",
    "id": "8-a8EoAbld32"
   },
   "outputs": [],
   "source": [
    "def assign_clusters(L):\n",
    "    return np.array([min_dist(x) for x in L])"
   ]
  },
  {
   "cell_type": "code",
   "execution_count": 5,
   "metadata": {
    "colab": {},
    "colab_type": "code",
    "id": "A25hP-oflfSi"
   },
   "outputs": [],
   "source": [
    "def get_clusters(arr):\n",
    "    return [np.where(arr == i)[0] for i in range(len(C))]"
   ]
  },
  {
   "cell_type": "code",
   "execution_count": 6,
   "metadata": {
    "colab": {},
    "colab_type": "code",
    "id": "TmTj06SZlhCG"
   },
   "outputs": [],
   "source": [
    "def get_means(arr):\n",
    "    return [np.mean(x[i], axis=0) for i in arr]"
   ]
  },
  {
   "cell_type": "code",
   "execution_count": 11,
   "metadata": {},
   "outputs": [],
   "source": [
    "def Dk(i):\n",
    "    return np.sum([distance(x[pair[0]], x[pair[1]]) \n",
    "                   for pair in list(itertools.combinations(clusters[i], 2))\n",
    "                  ]) / len(clusters[i])"
   ]
  },
  {
   "cell_type": "code",
   "execution_count": 25,
   "metadata": {},
   "outputs": [],
   "source": [
    "def Wk():\n",
    "    return np.sum([Dk(i) for i in range(len(C))])"
   ]
  },
  {
   "cell_type": "code",
   "execution_count": 15,
   "metadata": {},
   "outputs": [],
   "source": [
    "def step():\n",
    "    global C, clusters\n",
    "    clusters = get_clusters(assign_clusters(x))\n",
    "    C = get_means(clusters)"
   ]
  },
  {
   "cell_type": "code",
   "execution_count": 86,
   "metadata": {
    "colab": {},
    "colab_type": "code",
    "id": "uT7ME_h6ligM"
   },
   "outputs": [],
   "source": [
    "X = make_blobs(500, cluster_std=1.3)[0]"
   ]
  },
  {
   "cell_type": "code",
   "execution_count": 87,
   "metadata": {},
   "outputs": [
    {
     "data": {
      "text/plain": [
       "<matplotlib.collections.PathCollection at 0x7efbb8b57080>"
      ]
     },
     "execution_count": 87,
     "metadata": {},
     "output_type": "execute_result"
    },
    {
     "data": {
      "image/png": "[encoded data removed]",
      "text/plain": [
       "<Figure size 432x288 with 1 Axes>"
      ]
     },
     "metadata": {
      "needs_background": "light"
     },
     "output_type": "display_data"
    }
   ],
   "source": [
    "plt.scatter(X.T[0], X.T[1])"
   ]
  },
  {
   "cell_type": "markdown",
   "metadata": {},
   "source": [
    "## Automate the process and plot elbow curve"
   ]
  },
  {
   "cell_type": "code",
   "execution_count": 88,
   "metadata": {},
   "outputs": [],
   "source": [
    "dimensions = X.shape[1]"
   ]
  },
  {
   "cell_type": "code",
   "execution_count": 110,
   "metadata": {},
   "outputs": [
    {
     "name": "stdout",
     "output_type": "stream",
     "text": [
      "1523.0136742846887\n",
      "1231.305159631373\n",
      "1261.4471504291485\n",
      "1049.411083918601\n",
      "1041.9018845513824\n",
      "1190.1140311210847\n",
      "1167.0333996383017\n",
      "1348.3048670422563\n",
      "1274.1972820547464\n",
      "1008.0502438811362\n",
      "523.9439141453772\n",
      "652.0327195288188\n",
      "441.29906070345544\n",
      "545.9144534128677\n",
      "417.43096755418316\n",
      "568.9510110294905\n",
      "451.3926222173417\n",
      "612.0592867254007\n",
      "541.5975551375058\n",
      "576.8407480142089\n",
      "322.71623430151146\n",
      "389.03394853424396\n",
      "430.7694233279549\n",
      "389.76881481005705\n",
      "301.20079001773206\n",
      "431.8814984740047\n",
      "491.23884073219875\n",
      "334.4499852189102\n",
      "373.9576251112425\n",
      "379.65500104794245\n",
      "325.27144273908357\n",
      "332.4028998602966\n",
      "311.71657148523394\n",
      "219.10471250500882\n",
      "309.626987228546\n",
      "279.12648379326356\n",
      "259.63587790661836\n",
      "252.51276609660187\n",
      "253.96222524240608\n",
      "291.98519932549914\n"
     ]
    }
   ],
   "source": [
    "Wks = []\n",
    "Ewks = []\n",
    "sds = []\n",
    "B = 10\n",
    "\n",
    "for i in range(1, 5):  # up to 4 clusters\n",
    "    n_clusters = i\n",
    "    \n",
    "    # First, run the clustering on actual data\n",
    "    x = X\n",
    "    lower_limits = [min(x.T[i]) for i in range(x.shape[1])]\n",
    "    upper_limits = [max(x.T[i]) for i in range(x.shape[1])]\n",
    "    \n",
    "    C = [[np.random.uniform(lower_limits[i], upper_limits[i]) for i in range(dimensions)] for _ in range(n_clusters)]\n",
    "    \n",
    "    for _ in range(5):  # number of steps\n",
    "        step()\n",
    "\n",
    "    Wks.append(np.log(Wk()))\n",
    "    \n",
    "    Bwks = []\n",
    "    # Now, on the null reference data\n",
    "    for j in range(B):\n",
    "        # Generate a dataset of 30 samples\n",
    "        x = np.array([[np.random.uniform(lower_limits[i], upper_limits[i]) for i in range(dimensions)] for _ in range(30)])\n",
    "        \n",
    "        # Generate initial centers\n",
    "        C = [[np.random.uniform(lower_limits[i], upper_limits[i]) for i in range(dimensions)] for _ in range(n_clusters)]\n",
    "        # Cluster\n",
    "        for _ in range(5):\n",
    "            step()\n",
    "        print(Wk())\n",
    "        Bwks.append(np.log(Wk()))\n",
    "    \n",
    "    Ewks.append(np.average(Bwks))\n",
    "    sds.append(np.sqrt(np.var(Bwks)))"
   ]
  },
  {
   "cell_type": "code",
   "execution_count": 111,
   "metadata": {},
   "outputs": [
    {
     "data": {
      "text/plain": [
       "[9.655944874644904, 8.64727864070277, 7.456450877951902, 7.346528698428333]"
      ]
     },
     "execution_count": 111,
     "metadata": {},
     "output_type": "execute_result"
    }
   ],
   "source": [
    "Wks"
   ]
  },
  {
   "cell_type": "code",
   "execution_count": 112,
   "metadata": {},
   "outputs": [
    {
     "data": {
      "text/plain": [
       "[7.090555172152946, 6.269283408576141, 5.942031835580256, 5.639431590242561]"
      ]
     },
     "execution_count": 112,
     "metadata": {},
     "output_type": "execute_result"
    }
   ],
   "source": [
    "Ewks"
   ]
  },
  {
   "cell_type": "code",
   "execution_count": 113,
   "metadata": {},
   "outputs": [
    {
     "data": {
      "text/plain": [
       "[0.12096189254741639,\n",
       " 0.1391162882867689,\n",
       " 0.14016356655340825,\n",
       " 0.12693392442317022]"
      ]
     },
     "execution_count": 113,
     "metadata": {},
     "output_type": "execute_result"
    }
   ],
   "source": [
    "sds"
   ]
  },
  {
   "cell_type": "code",
   "execution_count": 114,
   "metadata": {},
   "outputs": [],
   "source": [
    "sks = [np.sqrt(1 + 1./B) * i for i in sds]"
   ]
  },
  {
   "cell_type": "code",
   "execution_count": 115,
   "metadata": {},
   "outputs": [
    {
     "data": {
      "text/plain": [
       "[0.12686590319513744,\n",
       " 0.14590639407975284,\n",
       " 0.1470047887923005,\n",
       " 0.13312942306798226]"
      ]
     },
     "execution_count": 115,
     "metadata": {},
     "output_type": "execute_result"
    }
   ],
   "source": [
    "sks"
   ]
  },
  {
   "cell_type": "code",
   "execution_count": 116,
   "metadata": {},
   "outputs": [],
   "source": [
    "Gaps = [Ewks[i] - Wks[i] for i in range(len(Wks))]"
   ]
  },
  {
   "cell_type": "code",
   "execution_count": 117,
   "metadata": {},
   "outputs": [
    {
     "data": {
      "text/plain": [
       "[-2.5653897024919576,\n",
       " -2.37799523212663,\n",
       " -1.514419042371646,\n",
       " -1.7070971081857724]"
      ]
     },
     "execution_count": 117,
     "metadata": {},
     "output_type": "execute_result"
    }
   ],
   "source": [
    "Gaps"
   ]
  },
  {
   "cell_type": "code",
   "execution_count": 118,
   "metadata": {},
   "outputs": [
    {
     "data": {
      "image/png": "[encoded data removed]",
      "text/plain": [
       "<Figure size 432x288 with 1 Axes>"
      ]
     },
     "metadata": {
      "needs_background": "light"
     },
     "output_type": "display_data"
    }
   ],
   "source": [
    "plt.plot(range(1, len(Gaps)+1), Gaps, 'ro--');"
   ]
  },
  {
   "cell_type": "code",
   "execution_count": 119,
   "metadata": {},
   "outputs": [
    {
     "name": "stdout",
     "output_type": "stream",
     "text": [
      "for k = 1 , Gap(k) >= Gap(k+1) - s(k+1) is False\n",
      "for k = 2 , Gap(k) >= Gap(k+1) - s(k+1) is False\n",
      "for k = 3 , Gap(k) >= Gap(k+1) - s(k+1) is True\n"
     ]
    }
   ],
   "source": [
    "for i in range(len(sks)-1):\n",
    "    print('for k =', i+1, ', Gap(k) >= Gap(k+1) - s(k+1) is', Gaps[i] >= Gaps[i+1] - sks[i+1])"
   ]
  },
  {
   "cell_type": "code",
   "execution_count": null,
   "metadata": {},
   "outputs": [],
   "source": []
  }
 ],
 "metadata": {
  "colab": {
   "collapsed_sections": [],
   "name": "k-Means Animation.ipynb",
   "provenance": [],
   "version": "0.3.2"
  },
  "kernelspec": {
   "display_name": "Python 3",
   "language": "python",
   "name": "python3"
  },
  "language_info": {
   "codemirror_mode": {
    "name": "ipython",
    "version": 3
   },
   "file_extension": ".py",
   "mimetype": "text/x-python",
   "name": "python",
   "nbconvert_exporter": "python",
   "pygments_lexer": "ipython3",
   "version": "3.5.3"
  }
 },
 "nbformat": 4,
 "nbformat_minor": 1
}
