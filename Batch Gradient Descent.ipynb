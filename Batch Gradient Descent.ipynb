{
 "cells": [
  {
   "cell_type": "code",
   "execution_count": 337,
   "metadata": {},
   "outputs": [],
   "source": [
    "import numpy as np\n",
    "import matplotlib.pyplot as plt\n",
    "%matplotlib inline"
   ]
  },
  {
   "cell_type": "code",
   "execution_count": 351,
   "metadata": {},
   "outputs": [],
   "source": [
    "def batch_gradient_descent(theta, x, y, alpha=0.01, n_iter=100, print_cost=100):\n",
    "    \"\"\"\n",
    "    Implements batch gradient descent using vectors and numpy.\n",
    "    \n",
    "    Arguments:\n",
    "        theta     : (n + 1)-dimensional vector\n",
    "        x         : (m, n + 1)-dimension matrix\n",
    "        y         : (m, 1)-dimension vector\n",
    "        n_iter    : number of iterations to run\n",
    "        alpha     : learning rate\n",
    "        print_cost: # iterations to print cost\n",
    "        \n",
    "    Returns:\n",
    "        theta after n_iter iterations\n",
    "    \"\"\"\n",
    "    m = y.shape[0]\n",
    "    n = theta.shape[0] - 1\n",
    "    \n",
    "    plot_data = []\n",
    "    \n",
    "    # Feature scaling\n",
    "    x_norm = np.sum(x, axis=0)\n",
    "    x = x / x_norm\n",
    "    \n",
    "    assert(x.shape == (m, n + 1)), 'invalid shape for x' + str(x.shape)\n",
    "    assert(y.shape == (m , 1)), 'invalid shape for y' + str(y.shape)\n",
    "    \n",
    "    for z in range(n_iter):  \n",
    "        h = np.dot(x, theta)\n",
    "        theta = theta - alpha / m * np.sum((h - y) * x, axis=0, keepdims=True).T   \n",
    "        \n",
    "        if (z % print_cost == 0):\n",
    "            cost = 1 / (2 * m) * np.sum((h - y) ** 2)\n",
    "            plot_data.append([z, cost])\n",
    "            print(cost)\n",
    "    \n",
    "    # Plot the cost function\n",
    "    plot_x = [item[0] for item in plot_data]\n",
    "    plot_y = [item[1] for item in plot_data]\n",
    "    plt.plot(plot_x, plot_y, 'ro--')\n",
    "            \n",
    "    return theta"
   ]
  },
  {
   "cell_type": "code",
   "execution_count": 356,
   "metadata": {},
   "outputs": [],
   "source": [
    "y = np.array([[400], [330], [369], [232], [540]], dtype=np.float64)\n",
    "x = np.array([[2104,3], [1600,3], [2400,3], [1416,2], [3000,4]], dtype=np.float64)\n",
    "x = np.concatenate((np.ones((5,1), dtype=np.float64), x), axis=1)\n",
    "theta = np.array([[40], [30], [50]], dtype=np.float64)"
   ]
  },
  {
   "cell_type": "code",
   "execution_count": 357,
   "metadata": {},
   "outputs": [
    {
     "name": "stdout",
     "output_type": "stream",
     "text": [
      "66004.56155294359\n",
      "241.5365573191075\n",
      "183.71269396782452\n",
      "167.20860655390518\n",
      "158.14057937866752\n",
      "152.70580877004923\n",
      "149.42416809158598\n",
      "147.44143069530864\n",
      "146.2434196110343\n",
      "145.51955354613958\n"
     ]
    },
    {
     "data": {
      "text/plain": [
       "array([[-336.27683984],\n",
       "       [ 713.35322125],\n",
       "       [1494.0237326 ]])"
      ]
     },
     "execution_count": 357,
     "metadata": {},
     "output_type": "execute_result"
    },
    {
     "data": {
      "image/png": "[encoded data removed]",
      "text/plain": [
       "<Figure size 432x288 with 1 Axes>"
      ]
     },
     "metadata": {},
     "output_type": "display_data"
    }
   ],
   "source": [
    "batch_gradient_descent(theta, x, y, n_iter=100000, alpha=0.1, print_cost=10000)"
   ]
  },
  {
   "cell_type": "code",
   "execution_count": null,
   "metadata": {},
   "outputs": [],
   "source": []
  }
 ],
 "metadata": {
  "kernelspec": {
   "display_name": "Python 3",
   "language": "python",
   "name": "python3"
  },
  "language_info": {
   "codemirror_mode": {
    "name": "ipython",
    "version": 3
   },
   "file_extension": ".py",
   "mimetype": "text/x-python",
   "name": "python",
   "nbconvert_exporter": "python",
   "pygments_lexer": "ipython3",
   "version": "3.6.5"
  }
 },
 "nbformat": 4,
 "nbformat_minor": 2
}
